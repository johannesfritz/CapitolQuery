{
 "cells": [
  {
   "cell_type": "markdown",
   "metadata": {},
   "source": [
    "## Appendix A: Proposed Next Steps\n",
    "\n",
    "CapitolQuery 1.0 (both the tutorials and the database) is a project of the GoodlyLabs and UC Berkeley's Computational Text Analysis Working Group, and has been supported by seed funding from the Social Science Research Council.\n",
    "\n",
    "Project creators and authors have been working according to a GoodlyLabs principle of continual improvement through iteration. So, we fully expect that the tutorials and database will improve as members of the library and research community engage with them, offer feedback, and suggest ways the data might be linked with additional data sources.\n",
    "\n",
    "The project's primary creators, Nick Adams and Johannes Fritz, with support from the Social Science Matrix, are currently guiding three teams of UC Berkeley students through a set of \"Liberating Textual Data\" projects based on the CapitolQuery tutorials. Lessons learned from this semester of work (ongoing throughout Spring 2018) will be incorporated into a curriculum that can also be delivered in other settings to other audiences.\n",
    "\n",
    "To ensure that many more archivists, librarians, and researchers are able to prepare 'research-ready' databases, we propose that a consortium of interested funders support the following:\n",
    "\n",
    "* A series of textual data liberation week-long courses to be taught every 3 months in a series of 8 cities across the US and EU.\n",
    "\n",
    "* A partnership with DataCarpentry to edit the tutorials into a curriculum that fits their editorial style and can be hosted by their website and GitHub repository.\n",
    "\n",
    "* A \"Liberating Textual Data\" website where this and similar projects can be hosted alongside a repository of researcher-written query scaffolds, and a community forum focused on creating and sharing research-ready databases.\n",
    "\n",
    "To ensure that the Congressional Hearings data is maximally useful to the public and research community, we propose that a consortium of interested funders support the following:\n",
    " \n",
    "* A one year, half-time \"Data Steward\" who can maintain the data and connect it to more external data: bill information, donors, members’ schedules/calendars, voting records, and material already gathered by the Sunlight Foundation.\n",
    "\n",
    "\n"
   ]
  },
  {
   "cell_type": "code",
   "execution_count": null,
   "metadata": {
    "collapsed": true
   },
   "outputs": [],
   "source": []
  }
 ],
 "metadata": {
  "kernelspec": {
   "display_name": "Python [Root]",
   "language": "python",
   "name": "Python [Root]"
  },
  "language_info": {
   "codemirror_mode": {
    "name": "ipython",
    "version": 2
   },
   "file_extension": ".py",
   "mimetype": "text/x-python",
   "name": "python",
   "nbconvert_exporter": "python",
   "pygments_lexer": "ipython2",
   "version": "2.7.12"
  }
 },
 "nbformat": 4,
 "nbformat_minor": 0
}
